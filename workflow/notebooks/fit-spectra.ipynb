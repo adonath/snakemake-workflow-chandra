{
 "cells": [
  {
   "cell_type": "markdown",
   "id": "04ab15e2",
   "metadata": {},
   "source": [
    "# Spectral Fit"
   ]
  },
  {
   "cell_type": "code",
   "execution_count": null,
   "id": "5c5fd432",
   "metadata": {},
   "outputs": [],
   "source": [
    "import sherpa.astro.ui as sau\n",
    "import matplotlib.pyplot as plt\n",
    "from sherpa_contrib.chart import save_chart_spectrum"
   ]
  },
  {
   "cell_type": "code",
   "execution_count": null,
   "id": "2b713c7f",
   "metadata": {},
   "outputs": [],
   "source": [
    "import logging\n",
    "from pathlib import Path\n",
    "\n",
    "import yaml\n",
    "from astropy.table import Table\n",
    "\n",
    "log = logging.getLogger(__name__)\n",
    "\n",
    "YAML_DUMP_KWARGS = {\n",
    "    \"sort_keys\": False,\n",
    "    \"indent\": 4,\n",
    "    \"width\": 80,\n",
    "    \"default_flow_style\": False,\n",
    "}\n",
    "\n",
    "\n",
    "def convert_spectrum_chart_to_rdb(filename, overwrite=False):\n",
    "    \"\"\"Convert chart spectrum to rdb format\"\"\"\n",
    "    data = Table.read(filename, format=\"ascii\")\n",
    "    data.rename_column(\"col1\", \"emin\")\n",
    "    data.rename_column(\"col2\", \"emax\")\n",
    "    data.rename_column(\"col3\", \"flux\")\n",
    "\n",
    "    filename_rdb = Path(filename).with_suffix(\".rdb\")\n",
    "\n",
    "    log.info(f\"Writing {filename_rdb}\")\n",
    "    data.write(filename_rdb, format=\"ascii.rdb\", overwrite=overwrite)\n",
    "\n",
    "\n",
    "def sherpa_parameter_to_dict(par):\n",
    "    \"\"\"Sherpa parameter to dict\"\"\"\n",
    "    data = {}\n",
    "    data[\"name\"] = str(par.name)\n",
    "    data[\"value\"] = float(par.val)\n",
    "    data[\"min\"] = float(par.min)\n",
    "    data[\"max\"] = float(par.max)\n",
    "    data[\"frozen\"] = bool(par.frozen)\n",
    "    data[\"unit\"] = str(par.units)\n",
    "    return data\n",
    "\n",
    "\n",
    "def sherpa_model_to_dict(model):\n",
    "    \"\"\"Convert Sherpa model to dict\"\"\"\n",
    "    data = {\n",
    "        \"name\": model.name,\n",
    "        \"type\": model.type,\n",
    "    }\n",
    "\n",
    "    if model.type == \"binaryopmodel\":\n",
    "        data[\"operator\"] = str(model.opstr)\n",
    "        data[\"lhs\"] = sherpa_model_to_dict(model.lhs)\n",
    "        data[\"rhs\"] = sherpa_model_to_dict(model.rhs)\n",
    "        return data\n",
    "\n",
    "    parameters = []\n",
    "\n",
    "    for par in model.pars:\n",
    "        data_par = sherpa_parameter_to_dict(par)\n",
    "        parameters.append(data_par)\n",
    "\n",
    "    data[\"parameters\"] = parameters\n",
    "    return data\n",
    "\n",
    "\n",
    "def write_sherpa_model_to_yaml(model, filename, overwrite=True):\n",
    "    \"\"\"Write Sherpa model to YAML file\"\"\"\n",
    "    data = sherpa_model_to_dict(model)\n",
    "\n",
    "    if Path(filename).exists() and not overwrite:\n",
    "        raise IOError(f\"File exists: {filename}\")\n",
    "\n",
    "    with open(filename, \"w\") as fh:\n",
    "        yaml.dump(data, fh, **YAML_DUMP_KWARGS)\n",
    "\n",
    "    log.info(f\"Writing {filename}\")\n"
   ]
  },
  {
   "cell_type": "code",
   "execution_count": null,
   "id": "d089136b",
   "metadata": {},
   "outputs": [],
   "source": [
    "sau.reset()"
   ]
  },
  {
   "cell_type": "code",
   "execution_count": null,
   "id": "4b62773d",
   "metadata": {},
   "outputs": [],
   "source": [
    "sau.show_all()"
   ]
  },
  {
   "cell_type": "code",
   "execution_count": null,
   "id": "0c55d536",
   "metadata": {},
   "outputs": [],
   "source": [
    "DATASET_IDS = [f\"obs-id-{obs_id}\" for obs_id in snakemake.config[\"obs_ids\"]]"
   ]
  },
  {
   "cell_type": "code",
   "execution_count": null,
   "id": "0500e6e0",
   "metadata": {},
   "outputs": [],
   "source": [
    "for dataset_id, filename in zip(DATASET_IDS, snakemake.input):\n",
    "    sau.load_data(dataset_id, filename)\n",
    "    sau.group_counts(dataset_id, 10)\n",
    "\n",
    "sau.notice(0.5, 7)"
   ]
  },
  {
   "cell_type": "code",
   "execution_count": null,
   "id": "0935240a",
   "metadata": {},
   "outputs": [],
   "source": [
    "sau.set_stat(\"cstat\")\n",
    "sau.set_method(\"simplex\")"
   ]
  },
  {
   "cell_type": "code",
   "execution_count": null,
   "id": "03a82296",
   "metadata": {},
   "outputs": [],
   "source": [
    "for dataset_id in DATASET_IDS:\n",
    "    sau.set_source(dataset_id, sau.xsphabs.absorption * sau.powlaw1d.pwl)\n",
    "\n",
    "sau.xsphabs.absorption.nh.val = 0.09\n",
    "sau.xsphabs.absorption.nh.frozen = True\n",
    "sau.powlaw1d.pwl.ampl.val = 0.001\n",
    "sau.powlaw1d.pwl.gamma.val = 1.5"
   ]
  },
  {
   "cell_type": "code",
   "execution_count": null,
   "id": "5eedcb42",
   "metadata": {},
   "outputs": [],
   "source": [
    "sau.fit()"
   ]
  },
  {
   "cell_type": "code",
   "execution_count": null,
   "id": "50e8b63d",
   "metadata": {},
   "outputs": [],
   "source": [
    "for dataset_id in DATASET_IDS:\n",
    "    sau.plot_fit_resid(dataset_id)\n",
    "    plt.show()"
   ]
  },
  {
   "cell_type": "code",
   "execution_count": null,
   "id": "6deb14fd",
   "metadata": {},
   "outputs": [],
   "source": [
    "for dataset_id in DATASET_IDS:\n",
    "    sau.set_pileup_model(dataset_id, sau.jdpileup.jdp)\n",
    "\n",
    "sau.jdpileup.jdp.f.min = 0.85\n",
    "sau.jdpileup.jdp.ftime = 0.6\n",
    "sau.jdpileup.jdp.fracexp = 0.987"
   ]
  },
  {
   "cell_type": "code",
   "execution_count": null,
   "id": "61fff418",
   "metadata": {},
   "outputs": [],
   "source": [
    "sau.fit()"
   ]
  },
  {
   "cell_type": "code",
   "execution_count": null,
   "id": "f9f9b9c6",
   "metadata": {},
   "outputs": [],
   "source": [
    "for dataset_id in DATASET_IDS:\n",
    "    sau.plot_fit_resid(dataset_id)\n",
    "    plt.show()"
   ]
  },
  {
   "cell_type": "code",
   "execution_count": null,
   "id": "b8854fd1",
   "metadata": {},
   "outputs": [],
   "source": [
    "for dataset_id in DATASET_IDS:\n",
    "    sau.set_analysis(dataset_id, \"energy\", \"rate\", factor=1)\n",
    "\n",
    "e_min = 0.5\n",
    "e_max = 7\n",
    "\n",
    "save_chart_spectrum(\n",
    "        str(snakemake.output[0]), elow=e_min, ehigh=e_max, clobber=True, id=DATASET_IDS[0]\n",
    ")"
   ]
  },
  {
   "cell_type": "code",
   "execution_count": null,
   "id": "d98a21d1",
   "metadata": {},
   "outputs": [],
   "source": [
    "write_sherpa_model_to_yaml(sau.get_source(id=DATASET_IDS[0]), filename=str(snakemake.output[1]))"
   ]
  }
 ],
 "metadata": {
  "kernelspec": {
   "display_name": "Python 3",
   "language": "python",
   "name": "python3"
  },
  "language_info": {
   "codemirror_mode": {
    "name": "ipython",
    "version": 3
   },
   "file_extension": ".py",
   "mimetype": "text/x-python",
   "name": "python",
   "nbconvert_exporter": "python",
   "pygments_lexer": "ipython3",
   "version": "3.9.16 | packaged by conda-forge | (main, Feb  1 2023, 21:42:20) \n[Clang 14.0.6 ]"
  },
  "vscode": {
   "interpreter": {
    "hash": "43b2a560ef8d2417521e8b399519779259bd8f54488205e3d263b5aae877e11f"
   }
  }
 },
 "nbformat": 4,
 "nbformat_minor": 5
}
