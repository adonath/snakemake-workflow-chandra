{
 "cells": [
  {
   "cell_type": "markdown",
   "id": "04ab15e2",
   "metadata": {},
   "source": [
    "# Spectral Fit"
   ]
  },
  {
   "cell_type": "code",
   "execution_count": null,
   "id": "5c5fd432",
   "metadata": {},
   "outputs": [],
   "source": [
    "import sherpa.astro.ui as sau\n",
    "import matplotlib.pyplot as plt\n",
    "from sherpa_contrib.chart import save_chart_spectrum"
   ]
  },
  {
   "cell_type": "code",
   "execution_count": null,
   "id": "d089136b",
   "metadata": {},
   "outputs": [],
   "source": [
    "sau.reset()"
   ]
  },
  {
   "cell_type": "code",
   "execution_count": null,
   "id": "4b62773d",
   "metadata": {},
   "outputs": [],
   "source": [
    "sau.show_all()"
   ]
  },
  {
   "cell_type": "code",
   "execution_count": null,
   "id": "0c55d536",
   "metadata": {},
   "outputs": [],
   "source": [
    "DATASET_IDS = [f\"obs-id-{index.obs_id}\" for index in context.file_indices]"
   ]
  },
  {
   "cell_type": "code",
   "execution_count": null,
   "id": "0500e6e0",
   "metadata": {},
   "outputs": [],
   "source": [
    "for index in context.file_indices:\n",
    "    dataset_id = f\"obs-id-{index.obs_id}\"\n",
    "\n",
    "    sau.load_data(dataset_id, str(index.paths_spectra_pha[irf_label] / f\"{irf_label}.pi\"))\n",
    "    sau.group_counts(dataset_id, 10)\n",
    "\n",
    "sau.notice(0.5, 7)"
   ]
  },
  {
   "cell_type": "code",
   "execution_count": null,
   "id": "0935240a",
   "metadata": {},
   "outputs": [],
   "source": [
    "sau.set_stat(\"wstat\")\n",
    "sau.set_method(\"simplex\")"
   ]
  },
  {
   "cell_type": "code",
   "execution_count": null,
   "id": "03a82296",
   "metadata": {},
   "outputs": [],
   "source": [
    "for dataset_id in DATASET_IDS:\n",
    "    sau.set_source(dataset_id, sau.xsphabs.absorption * sau.powlaw1d.pwl)\n",
    "\n",
    "sau.xsphabs.absorption.nh.val = 0.09\n",
    "sau.xsphabs.absorption.nh.frozen = True\n",
    "sau.powlaw1d.pwl.ampl.val = 0.001\n",
    "sau.powlaw1d.pwl.gamma.val = 1.5"
   ]
  },
  {
   "cell_type": "code",
   "execution_count": null,
   "id": "5eedcb42",
   "metadata": {},
   "outputs": [],
   "source": [
    "sau.fit()"
   ]
  },
  {
   "cell_type": "code",
   "execution_count": null,
   "id": "50e8b63d",
   "metadata": {},
   "outputs": [],
   "source": [
    "for dataset_id in DATASET_IDS:\n",
    "    sau.plot_fit_resid(dataset_id)\n",
    "    plt.show()"
   ]
  },
  {
   "cell_type": "code",
   "execution_count": null,
   "id": "6deb14fd",
   "metadata": {},
   "outputs": [],
   "source": [
    "for dataset_id in DATASET_IDS:\n",
    "    sau.set_pileup_model(dataset_id, sau.jdpileup.jdp)\n",
    "\n",
    "sau.jdpileup.jdp.f.min = 0.85\n",
    "sau.jdpileup.jdp.ftime = 0.6\n",
    "sau.jdpileup.jdp.fracexp = 0.987"
   ]
  },
  {
   "cell_type": "code",
   "execution_count": null,
   "id": "61fff418",
   "metadata": {},
   "outputs": [],
   "source": [
    "sau.fit()"
   ]
  },
  {
   "cell_type": "code",
   "execution_count": null,
   "id": "f9f9b9c6",
   "metadata": {},
   "outputs": [],
   "source": [
    "for dataset_id in DATASET_IDS:\n",
    "    sau.plot_fit_resid(dataset_id)\n",
    "    plt.show()"
   ]
  },
  {
   "cell_type": "code",
   "execution_count": null,
   "id": "b8854fd1",
   "metadata": {},
   "outputs": [],
   "source": [
    "for dataset_id in DATASET_IDS:\n",
    "    sau.set_analysis(dataset_id, \"energy\", \"rate\", factor=1)\n",
    "\n",
    "e_min = 0.5\n",
    "e_max = 7\n",
    "\n",
    "for index in context.file_indices:\n",
    "    filename = index.filenames_spectra[irf_label]\n",
    "    save_chart_spectrum(\n",
    "        str(filename), elow=e_min, ehigh=e_max, clobber=True, id=DATASET_IDS[0]\n",
    "    )"
   ]
  },
  {
   "cell_type": "code",
   "execution_count": null,
   "id": "d98a21d1",
   "metadata": {},
   "outputs": [],
   "source": []
  }
 ],
 "metadata": {
  "kernelspec": {
   "display_name": "Python 3 (ipykernel)",
   "language": "python",
   "name": "python3"
  },
  "language_info": {
   "codemirror_mode": {
    "name": "ipython",
    "version": 3
   },
   "file_extension": ".py",
   "mimetype": "text/x-python",
   "name": "python",
   "nbconvert_exporter": "python",
   "pygments_lexer": "ipython3",
   "version": "3.9.16"
  }
 },
 "nbformat": 4,
 "nbformat_minor": 5
}
